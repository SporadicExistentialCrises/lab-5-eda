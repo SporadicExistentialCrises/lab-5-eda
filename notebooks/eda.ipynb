{
 "cells": [
  {
   "cell_type": "markdown",
   "id": "5e44d1f7",
   "metadata": {},
   "source": [
    "# Lab 5 | EDA & Visualization"
   ]
  },
  {
   "cell_type": "code",
   "execution_count": 67,
   "id": "53efcdf4",
   "metadata": {},
   "outputs": [
    {
     "data": {
      "text/html": [
       "<div>\n",
       "<style scoped>\n",
       "    .dataframe tbody tr th:only-of-type {\n",
       "        vertical-align: middle;\n",
       "    }\n",
       "\n",
       "    .dataframe tbody tr th {\n",
       "        vertical-align: top;\n",
       "    }\n",
       "\n",
       "    .dataframe thead th {\n",
       "        text-align: right;\n",
       "    }\n",
       "</style>\n",
       "<table border=\"1\" class=\"dataframe\">\n",
       "  <thead>\n",
       "    <tr style=\"text-align: right;\">\n",
       "      <th></th>\n",
       "      <th>student_id</th>\n",
       "      <th>age</th>\n",
       "      <th>gpa</th>\n",
       "      <th>gender</th>\n",
       "      <th>major</th>\n",
       "      <th>year</th>\n",
       "    </tr>\n",
       "  </thead>\n",
       "  <tbody>\n",
       "    <tr>\n",
       "      <th>0</th>\n",
       "      <td>1</td>\n",
       "      <td>14</td>\n",
       "      <td>NaN</td>\n",
       "      <td>F</td>\n",
       "      <td>Economics</td>\n",
       "      <td>freshman</td>\n",
       "    </tr>\n",
       "    <tr>\n",
       "      <th>1</th>\n",
       "      <td>2</td>\n",
       "      <td>17</td>\n",
       "      <td>2.92</td>\n",
       "      <td>M</td>\n",
       "      <td>History</td>\n",
       "      <td>senior</td>\n",
       "    </tr>\n",
       "    <tr>\n",
       "      <th>2</th>\n",
       "      <td>3</td>\n",
       "      <td>17</td>\n",
       "      <td>2.97</td>\n",
       "      <td>F</td>\n",
       "      <td>Physics</td>\n",
       "      <td>senior</td>\n",
       "    </tr>\n",
       "    <tr>\n",
       "      <th>3</th>\n",
       "      <td>4</td>\n",
       "      <td>16</td>\n",
       "      <td>2.76</td>\n",
       "      <td>F</td>\n",
       "      <td>Physics</td>\n",
       "      <td>junior</td>\n",
       "    </tr>\n",
       "    <tr>\n",
       "      <th>4</th>\n",
       "      <td>5</td>\n",
       "      <td>16</td>\n",
       "      <td>2.24</td>\n",
       "      <td>M</td>\n",
       "      <td>Chemistry</td>\n",
       "      <td>junior</td>\n",
       "    </tr>\n",
       "  </tbody>\n",
       "</table>\n",
       "</div>"
      ],
      "text/plain": [
       "   student_id  age   gpa gender      major      year\n",
       "0           1   14   NaN      F  Economics  freshman\n",
       "1           2   17  2.92      M    History    senior\n",
       "2           3   17  2.97      F    Physics    senior\n",
       "3           4   16  2.76      F    Physics    junior\n",
       "4           5   16  2.24      M  Chemistry    junior"
      ]
     },
     "execution_count": 67,
     "metadata": {},
     "output_type": "execute_result"
    }
   ],
   "source": [
    "# Task A\n",
    "\n",
    "import pandas as pd\n",
    "\n",
    "df = pd.read_csv(\"../data/students.csv\")\n",
    "df.head()"
   ]
  },
  {
   "cell_type": "code",
   "execution_count": 68,
   "id": "bd11233d",
   "metadata": {},
   "outputs": [
    {
     "name": "stdout",
     "output_type": "stream",
     "text": [
      "<class 'pandas.core.frame.DataFrame'>\n",
      "RangeIndex: 100 entries, 0 to 99\n",
      "Data columns (total 6 columns):\n",
      " #   Column      Non-Null Count  Dtype  \n",
      "---  ------      --------------  -----  \n",
      " 0   student_id  100 non-null    int64  \n",
      " 1   age         100 non-null    int64  \n",
      " 2   gpa         90 non-null     float64\n",
      " 3   gender      100 non-null    object \n",
      " 4   major       95 non-null     object \n",
      " 5   year        100 non-null    object \n",
      "dtypes: float64(1), int64(2), object(3)\n",
      "memory usage: 4.8+ KB\n",
      "None\n",
      "student_id     0\n",
      "age            0\n",
      "gpa           10\n",
      "gender         0\n",
      "major          5\n",
      "year           0\n",
      "dtype: int64\n"
     ]
    }
   ],
   "source": [
    "# Task B\n",
    "\n",
    "print(df.info())\n",
    "print(df.isna().sum())"
   ]
  },
  {
   "cell_type": "markdown",
   "id": "692472a8",
   "metadata": {},
   "source": [
    "# Which column has the most missing values and why might that be?\n",
    "GPA has the most missing values. This could be for a variety of reasons. If this data was obtained through self-reporting, students may not want to report their GPA if they aren't satisfied with it. Another possibility is that the students missing their GPA are all freshmen. Since they haven't completed their full year yet, they will not have a GPA."
   ]
  },
  {
   "cell_type": "code",
   "execution_count": 69,
   "id": "4cdd11f0",
   "metadata": {},
   "outputs": [
    {
     "data": {
      "text/html": [
       "<div>\n",
       "<style scoped>\n",
       "    .dataframe tbody tr th:only-of-type {\n",
       "        vertical-align: middle;\n",
       "    }\n",
       "\n",
       "    .dataframe tbody tr th {\n",
       "        vertical-align: top;\n",
       "    }\n",
       "\n",
       "    .dataframe thead th {\n",
       "        text-align: right;\n",
       "    }\n",
       "</style>\n",
       "<table border=\"1\" class=\"dataframe\">\n",
       "  <thead>\n",
       "    <tr style=\"text-align: right;\">\n",
       "      <th></th>\n",
       "      <th>stat</th>\n",
       "      <th>age stats summary</th>\n",
       "      <th>gpa stats summary</th>\n",
       "    </tr>\n",
       "  </thead>\n",
       "  <tbody>\n",
       "    <tr>\n",
       "      <th>0</th>\n",
       "      <td>count</td>\n",
       "      <td>100.000000</td>\n",
       "      <td>90.000000</td>\n",
       "    </tr>\n",
       "    <tr>\n",
       "      <th>1</th>\n",
       "      <td>mean</td>\n",
       "      <td>16.130000</td>\n",
       "      <td>2.624667</td>\n",
       "    </tr>\n",
       "    <tr>\n",
       "      <th>2</th>\n",
       "      <td>median</td>\n",
       "      <td>16.000000</td>\n",
       "      <td>2.665000</td>\n",
       "    </tr>\n",
       "    <tr>\n",
       "      <th>3</th>\n",
       "      <td>variance</td>\n",
       "      <td>1.892020</td>\n",
       "      <td>0.227432</td>\n",
       "    </tr>\n",
       "    <tr>\n",
       "      <th>4</th>\n",
       "      <td>std_dev</td>\n",
       "      <td>1.375507</td>\n",
       "      <td>0.476898</td>\n",
       "    </tr>\n",
       "    <tr>\n",
       "      <th>5</th>\n",
       "      <td>min</td>\n",
       "      <td>14.000000</td>\n",
       "      <td>1.630000</td>\n",
       "    </tr>\n",
       "    <tr>\n",
       "      <th>6</th>\n",
       "      <td>max</td>\n",
       "      <td>18.000000</td>\n",
       "      <td>3.930000</td>\n",
       "    </tr>\n",
       "  </tbody>\n",
       "</table>\n",
       "</div>"
      ],
      "text/plain": [
       "       stat  age stats summary  gpa stats summary\n",
       "0     count         100.000000          90.000000\n",
       "1      mean          16.130000           2.624667\n",
       "2    median          16.000000           2.665000\n",
       "3  variance           1.892020           0.227432\n",
       "4   std_dev           1.375507           0.476898\n",
       "5       min          14.000000           1.630000\n",
       "6       max          18.000000           3.930000"
      ]
     },
     "execution_count": 69,
     "metadata": {},
     "output_type": "execute_result"
    }
   ],
   "source": [
    "# Task C\n",
    "\n",
    "summary = pd.DataFrame({\n",
    "    \"stat\": [\"count\", \"mean\", \"median\", \"variance\", \"std_dev\", \"min\", \"max\"],\n",
    "    \"age stats summary\": [len(df[\"age\"].dropna()), df[\"age\"].mean(), df[\"age\"].median(), df[\"age\"].var(), df[\"age\"].std(), df[\"age\"].min(), df[\"age\"].max()],\n",
    "    \"gpa stats summary\": [len(df[\"gpa\"].dropna()), df[\"gpa\"].mean(), df[\"gpa\"].median(), df[\"gpa\"].var(), df[\"gpa\"].std(), df[\"gpa\"].min(), df[\"gpa\"].max()],\n",
    "})\n",
    "\n",
    "summary"
   ]
  },
  {
   "cell_type": "code",
   "execution_count": 70,
   "id": "bb3689d9",
   "metadata": {},
   "outputs": [
    {
     "data": {
      "text/plain": [
       "<Axes: xlabel='gpa', ylabel='Count'>"
      ]
     },
     "execution_count": 70,
     "metadata": {},
     "output_type": "execute_result"
    },
    {
     "data": {
      "image/png": "[encoded data removed]",
      "text/plain": [
       "<Figure size 640x480 with 1 Axes>"
      ]
     },
     "metadata": {},
     "output_type": "display_data"
    }
   ],
   "source": [
    "# Task D\n",
    "import seaborn as sns\n",
    "\n",
    "plt = df[\"age\"].hist(bins=range(14,20), align = \"left\", rwidth=0.9)\n",
    "\n",
    "sns.histplot(df[\"gpa\"], kde=True)\n"
   ]
  },
  {
   "cell_type": "markdown",
   "id": "def446bc",
   "metadata": {},
   "source": [
    "# Observations on age and GPA distributions\n",
    "One interesting feature about the GPA distribution is that it appears to be bimodal. There are two significant peaks: one at about 2.25 and another at about 3.0. One interesting feature about the age distribution is that there are much more 17-year-olds compared to other ages. This is odd because one would expect ages across a school to be mostly uniform; class sizes by grade tend to be the same."
   ]
  },
  {
   "cell_type": "code",
   "execution_count": 71,
   "id": "5262fc58",
   "metadata": {},
   "outputs": [
    {
     "name": "stdout",
     "output_type": "stream",
     "text": [
      "Correlation coefficient between age and GPA: r = 0.8786075344584666\n"
     ]
    },
    {
     "data": {
      "image/png": "[encoded data removed]",
      "text/plain": [
       "<Figure size 640x480 with 1 Axes>"
      ]
     },
     "metadata": {},
     "output_type": "display_data"
    }
   ],
   "source": [
    "# Task E\n",
    "\n",
    "scatterplot = sns.scatterplot(x=\"age\", y=\"gpa\", data=df)\n",
    "scatterplot.set_title(\"GPA vs Age\")\n",
    "r = df[\"age\"].corr(df[\"gpa\"])\n",
    "print(f\"Correlation coefficient between age and GPA: r = {r}\")"
   ]
  },
  {
   "cell_type": "markdown",
   "id": "f71dfcad",
   "metadata": {},
   "source": [
    "# Interpretation of plot and correlation coefficient\n",
    "Looking at the plot, one can tell that there is strong positive correlation between age and GPA. This is confirmed by the fact that the correlation coefficient r is about 0.88, indicating strong positive correlation. That means older students can be expected to have higher GPAs and vice versa."
   ]
  },
  {
   "cell_type": "code",
   "execution_count": 87,
   "id": "bf6abf9c",
   "metadata": {},
   "outputs": [],
   "source": [
    "# Task F\n",
    "\n",
    "df_cleaned = df.copy()\n",
    "df_cleaned[\"major\"] = df[\"major\"].str.strip().str.lower()\n",
    "df_cleaned.dropna(subset=[\"major\"], inplace=True)\n",
    "\n",
    "df_cleaned.to_csv(\"../data/students_clean.csv\", index=False)\n"
   ]
  }
 ],
 "metadata": {
  "kernelspec": {
   "display_name": "lab_5",
   "language": "python",
   "name": "python3"
  },
  "language_info": {
   "codemirror_mode": {
    "name": "ipython",
    "version": 3
   },
   "file_extension": ".py",
   "mimetype": "text/x-python",
   "name": "python",
   "nbconvert_exporter": "python",
   "pygments_lexer": "ipython3",
   "version": "3.13.5"
  }
 },
 "nbformat": 4,
 "nbformat_minor": 5
}
